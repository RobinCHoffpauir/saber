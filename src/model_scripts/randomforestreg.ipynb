{
 "cells": [
  {
   "cell_type": "code",
   "execution_count": 1,
   "metadata": {},
   "outputs": [],
   "source": [
    "# import all sklearn methods, models, and metrics needed for random forest regressor\n",
    "\n",
    "from sklearn.ensemble import RandomForestRegressor\n",
    "from sklearn.metrics import mean_squared_error\n",
    "from sklearn.model_selection import train_test_split\n",
    "from sklearn.model_selection import cross_val_score\n",
    "from sklearn.model_selection import GridSearchCV\n",
    "\n",
    "# import all the pybaseball modules and functions needed to extract the data\n",
    "from pybaseball import playerid_lookup, playerid_reverse_lookup, player_search_list, team_ids\n",
    "from pybaseball import statcast, team_batting_bref, team_pitching_bref, team_batting_bref \n",
    "from pybaseball import team_pitching_bref, team_game_logs\n",
    "\n",
    "# misc imports\n",
    "\n",
    "import numpy as np\n",
    "import pandas as pd\n",
    "import matplotlib.pyplot as plt\n",
    "import seaborn as sns\n",
    "from datetime import datetime as dt\n",
    "import pybaseball as pyb\n",
    "pyb.cache.enable()\n",
    "today = dt.today()\n",
    "teams= team_ids(2021)['teamIDBR'].tolist()\n"
   ]
  },
  {
   "cell_type": "code",
   "execution_count": 2,
   "metadata": {},
   "outputs": [],
   "source": [
    "cols = ['Game', 'Date', 'Home', 'Opp', 'Rslt', 'PA', 'AB', 'R', 'H', '2B',\n",
    "        '3B', 'HR', 'RBI', 'BB', 'IBB', 'SO', 'HBP', 'SH', 'SF', 'ROE', 'GDP',\n",
    "        'SB', 'CS', 'BA', 'OBP', 'SLG', 'OPS', 'LOB', 'NumPlayers', 'Thr', 'OppStart']\n",
    "\n",
    "for t in teams:\n",
    "    logs = pd.DataFrame(columns=cols)\n",
    "    attach =  pd.DataFrame(team_game_logs(2021, t, log_type='batting'))\n",
    "    logs= pd.merge(logs, attach, how='inner', on='Game')\n"
   ]
  },
  {
   "cell_type": "code",
   "execution_count": 3,
   "metadata": {},
   "outputs": [],
   "source": [
    "test = team_game_logs(2021, \"COL\", log_type='batting')"
   ]
  },
  {
   "cell_type": "code",
   "execution_count": 4,
   "metadata": {},
   "outputs": [
    {
     "name": "stdout",
     "output_type": "stream",
     "text": [
      "['Game', 'Date', 'Home', 'Opp', 'Rslt', 'PA', 'AB', 'R', 'H', '2B', '3B', 'HR', 'RBI', 'BB', 'IBB', 'SO', 'HBP', 'SH', 'SF', 'ROE', 'GDP', 'SB', 'CS', 'BA', 'OBP', 'SLG', 'OPS', 'LOB', 'NumPlayers', 'Thr', 'OppStart']\n"
     ]
    }
   ],
   "source": [
    "print(test.columns.to_list())"
   ]
  },
  {
   "cell_type": "code",
   "execution_count": 44,
   "metadata": {},
   "outputs": [
    {
     "name": "stdout",
     "output_type": "stream",
     "text": [
      "      yearID lgID teamID franchID  teamIDfg teamIDBR teamIDretro\n",
      "2905    2021   AL    BAL      BAL         2      BAL         BAL\n",
      "2906    2021   AL    BOS      BOS         3      BOS         BOS\n",
      "2907    2021   AL    CHA      CHW         4      CHW         CHA\n",
      "2908    2021   AL    CLE      CLE         5      CLE         CLE\n",
      "2909    2021   AL    DET      DET         6      DET         DET\n",
      "2910    2021   AL    HOU      HOU        21      HOU         HOU\n",
      "2911    2021   AL    KCA      KCR         7      KCR         KCA\n",
      "2912    2021   AL    LAA      ANA         1      LAA         ANA\n",
      "2913    2021   AL    MIN      MIN         8      MIN         MIN\n",
      "2914    2021   AL    NYA      NYY         9      NYY         NYA\n",
      "2915    2021   AL    OAK      OAK        10      OAK         OAK\n",
      "2916    2021   AL    SEA      SEA        11      SEA         SEA\n",
      "2917    2021   AL    TBA      TBD        12      TBR         TBA\n",
      "2918    2021   AL    TEX      TEX        13      TEX         TEX\n",
      "2919    2021   AL    TOR      TOR        14      TOR         TOR\n",
      "2920    2021   NL    ARI      ARI        15      ARI         ARI\n",
      "2921    2021   NL    ATL      ATL        16      ATL         ATL\n",
      "2922    2021   NL    CHN      CHC        17      CHC         CHN\n",
      "2923    2021   NL    CIN      CIN        18      CIN         CIN\n",
      "2924    2021   NL    COL      COL        19      COL         COL\n",
      "2925    2021   NL    LAN      LAD        22      LAD         LAN\n",
      "2926    2021   NL    MIA      FLA        20      MIA         MIA\n",
      "2927    2021   NL    MIL      MIL        23      MIL         MIL\n",
      "2928    2021   NL    NYN      NYM        25      NYM         NYN\n",
      "2929    2021   NL    PHI      PHI        26      PHI         PHI\n",
      "2930    2021   NL    PIT      PIT        27      PIT         PIT\n",
      "2931    2021   NL    SDN      SDP        29      SDP         SDN\n",
      "2932    2021   NL    SFN      SFG        30      SFG         SFN\n",
      "2933    2021   NL    SLN      STL        28      STL         SLN\n",
      "2934    2021   NL    WAS      WSN        24      WSN         WAS\n"
     ]
    }
   ],
   "source": [
    "print(team_ids(2021))"
   ]
  },
  {
   "cell_type": "code",
   "execution_count": null,
   "metadata": {},
   "outputs": [],
   "source": []
  }
 ],
 "metadata": {
  "kernelspec": {
   "display_name": "venv",
   "language": "python",
   "name": "python3"
  },
  "language_info": {
   "codemirror_mode": {
    "name": "ipython",
    "version": 3
   },
   "file_extension": ".py",
   "mimetype": "text/x-python",
   "name": "python",
   "nbconvert_exporter": "python",
   "pygments_lexer": "ipython3",
   "version": "3.12.3"
  }
 },
 "nbformat": 4,
 "nbformat_minor": 2
}
