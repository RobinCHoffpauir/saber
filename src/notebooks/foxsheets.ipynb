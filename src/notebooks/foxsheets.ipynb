{
 "cells": [
  {
   "cell_type": "code",
   "execution_count": 1,
   "metadata": {},
   "outputs": [],
   "source": [
    "import requests, json, html5lib\n",
    "import pandas as pd, pybaseball as pyb\n",
    "from datetime import datetime as dt\n",
    "from bs4 import BeautifulSoup as bs\n",
    "import requests\n",
    "from bs4 import BeautifulSoup\n",
    "\n",
    "def clean_text(text):\n",
    "    \"\"\"Remove HTML tags and unnecessary whitespace.\"\"\"\n",
    "    if text:\n",
    "        return ' '.join(text.split())\n",
    "    return \"\"\n",
    "\n",
    "def extract_link_text(html):\n",
    "    \"\"\"Extract text and URL from a given BeautifulSoup tag.\"\"\"\n",
    "    if html.find('a'):\n",
    "        return {'text': clean_text(html.get_text()), 'url': html.find('a')['href']}\n",
    "    return {'text': clean_text(html.get_text()), 'url': None}\n",
    "\n",
    "# create function to parse game data df and set columns = Teams\tLine\tOU\tW-L\tOv/Un/P\tRF/RA\tStarters\tW-L\tTeam Rec\tERA\tWHIP\n",
    "\n",
    "def parse_game_data(rows):\n",
    "    games = []\n",
    "    for row in rows:\n",
    "        game_details = {}\n",
    "        columns = row.find_all('td')\n",
    "        if len(columns) >= 18:  # Ensure there are enough columns for a complete dataset\n",
    "            game_details['date'] = clean_text(columns[0].text)\n",
    "            game_details['opponent'] = extract_link_text(columns[1])\n",
    "            game_details['player'] = extract_link_text(columns[2])\n",
    "            game_details['betting_line'] = clean_text(columns[3].text)\n",
    "            game_details['over_under'] = clean_text(columns[4].text)\n",
    "            game_details['result'] = clean_text(columns[5].text)\n",
    "            game_details['win_loss'] = clean_text(columns[6].text)\n",
    "            game_details['era'] = clean_text(columns[7].text)\n",
    "            game_details['innings_pitched'] = clean_text(columns[8].text)\n",
    "            game_details['hits_allowed'] = clean_text(columns[9].text)\n",
    "            game_details['runs_allowed'] = clean_text(columns[10].text)\n",
    "            game_details['earned_runs'] = clean_text(columns[11].text)\n",
    "            game_details['walks'] = clean_text(columns[12].text)\n",
    "            game_details['strikeouts'] = clean_text(columns[13].text)\n",
    "            game_details['home_runs_allowed'] = clean_text(columns[14].text)\n",
    "            games.append(game_details)\n",
    "    return games"
   ]
  },
  {
   "cell_type": "code",
   "execution_count": 2,
   "metadata": {},
   "outputs": [],
   "source": [
    "\n",
    "today = dt.today()\n",
    "r = requests.get('https://www.statfox.com/mlb/gamematchup.asp')"
   ]
  },
  {
   "cell_type": "code",
   "execution_count": 3,
   "metadata": {},
   "outputs": [],
   "source": [
    "soup = bs(r.text, 'html.parser')\n",
    "tables= soup.find_all('table')\n"
   ]
  },
  {
   "cell_type": "code",
   "execution_count": 4,
   "metadata": {},
   "outputs": [],
   "source": [
    "# Extract and parse the data from the relevant table\n",
    "tables = soup.find_all('table', class_='datatable')\n",
    "for table in tables:\n",
    "    rows = table.find_all('tr')\n",
    "    game_data = parse_game_data(rows[1:])  # Skip header row if present\n",
    "    for game in game_data:\n",
    "        df = pd.DataFrame(game, index=[0])"
   ]
  },
  {
   "cell_type": "code",
   "execution_count": 5,
   "metadata": {},
   "outputs": [
    {
     "data": {
      "text/html": [
       "<div>\n",
       "<style scoped>\n",
       "    .dataframe tbody tr th:only-of-type {\n",
       "        vertical-align: middle;\n",
       "    }\n",
       "\n",
       "    .dataframe tbody tr th {\n",
       "        vertical-align: top;\n",
       "    }\n",
       "\n",
       "    .dataframe thead th {\n",
       "        text-align: right;\n",
       "    }\n",
       "</style>\n",
       "<table border=\"1\" class=\"dataframe\">\n",
       "  <thead>\n",
       "    <tr style=\"text-align: right;\">\n",
       "      <th></th>\n",
       "      <th>date</th>\n",
       "      <th>opponent</th>\n",
       "      <th>player</th>\n",
       "      <th>betting_line</th>\n",
       "      <th>over_under</th>\n",
       "      <th>result</th>\n",
       "      <th>win_loss</th>\n",
       "      <th>era</th>\n",
       "      <th>innings_pitched</th>\n",
       "      <th>hits_allowed</th>\n",
       "      <th>runs_allowed</th>\n",
       "      <th>earned_runs</th>\n",
       "      <th>walks</th>\n",
       "      <th>strikeouts</th>\n",
       "      <th>home_runs_allowed</th>\n",
       "    </tr>\n",
       "  </thead>\n",
       "  <tbody>\n",
       "    <tr>\n",
       "      <th>0</th>\n",
       "      <td>917: OAKLAND918: NY YANKEES</td>\n",
       "      <td>NaN</td>\n",
       "      <td>NaN</td>\n",
       "      <td>9-15 (L1)16-8 (W1)</td>\n",
       "      <td>11-12-18-15-1</td>\n",
       "      <td>2.8 / 4.34.3 / 3.5</td>\n",
       "      <td>(L) A WOOD(L) N CORTES</td>\n",
       "      <td>0-21-1</td>\n",
       "      <td>2-3 (L1)2-3 (L2)</td>\n",
       "      <td>7.893.41</td>\n",
       "      <td>2.0311.069</td>\n",
       "      <td></td>\n",
       "      <td>Thursday, 4/25/2024 (2:20 PM)Matchup Report | ...</td>\n",
       "      <td>919: HOUSTON920: CHICAGO CUBS</td>\n",
       "      <td>-120+110</td>\n",
       "    </tr>\n",
       "  </tbody>\n",
       "</table>\n",
       "</div>"
      ],
      "text/plain": [
       "                          date  opponent  player        betting_line  \\\n",
       "0  917: OAKLAND918: NY YANKEES       NaN     NaN  9-15 (L1)16-8 (W1)   \n",
       "\n",
       "      over_under              result                win_loss     era  \\\n",
       "0  11-12-18-15-1  2.8 / 4.34.3 / 3.5  (L) A WOOD(L) N CORTES  0-21-1   \n",
       "\n",
       "    innings_pitched hits_allowed runs_allowed earned_runs  \\\n",
       "0  2-3 (L1)2-3 (L2)     7.893.41   2.0311.069               \n",
       "\n",
       "                                               walks  \\\n",
       "0  Thursday, 4/25/2024 (2:20 PM)Matchup Report | ...   \n",
       "\n",
       "                      strikeouts home_runs_allowed  \n",
       "0  919: HOUSTON920: CHICAGO CUBS          -120+110  "
      ]
     },
     "execution_count": 5,
     "metadata": {},
     "output_type": "execute_result"
    }
   ],
   "source": [
    "df"
   ]
  }
 ],
 "metadata": {
  "kernelspec": {
   "display_name": "venv",
   "language": "python",
   "name": "python3"
  },
  "language_info": {
   "codemirror_mode": {
    "name": "ipython",
    "version": 3
   },
   "file_extension": ".py",
   "mimetype": "text/x-python",
   "name": "python",
   "nbconvert_exporter": "python",
   "pygments_lexer": "ipython3",
   "version": "3.12.3"
  }
 },
 "nbformat": 4,
 "nbformat_minor": 2
}
