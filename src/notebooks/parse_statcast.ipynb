{
 "cells": [
  {
   "cell_type": "code",
   "execution_count": null,
   "metadata": {},
   "outputs": [],
   "source": [
    "import pybaseball as pyb, pandas as pd, sqlite3 as sql, matplotlib.pyplot as plt, seaborn as sns, numpy as np, datetime as dt, time as tm\n",
    "pyb.cache.enable()\n",
    "pd.options.display.max_columns = 100\n",
    "pd.options.display.max_rows = 100\n",
    "#connect to database in Betting/data/statcast/every_pitch_SC.db\n",
    "conn = sql.connect('../../data/statcast/every_pitch_SC.db')\n",
    "cursor = conn.cursor()\n",
    "\n"
   ]
  },
  {
   "cell_type": "code",
   "execution_count": null,
   "metadata": {},
   "outputs": [],
   "source": [
    "# create sql query to pull all data and column names from 2024 table that \"type\" == \"X\"\n",
    "\n",
    "query = (\"\"\"SELECT * FROM '2024' WHERE type == \"X\" \"\"\")\n",
    "\n",
    "#execute query\n",
    "cursor.execute(query)\n",
    "\n",
    "#extract column names from query\n",
    "col_names = [description[0] for description in cursor.description]\n",
    "\n",
    "#extract data from query\n",
    "all_pitches = cursor.fetchall()\n",
    "\n",
    "#create dataframe from data and column names\n",
    "all_pitches_SC = pd.DataFrame(all_pitches, columns=col_names)"
   ]
  },
  {
   "cell_type": "code",
   "execution_count": null,
   "metadata": {},
   "outputs": [],
   "source": [
    "# create sql query to pull all data and column names from 2024 table that \"type\" == \"X\"\n",
    "\n",
    "query = (\"\"\"SELECT * FROM '2024' WHERE type == \"X\" \"\"\")\n",
    "\n",
    "#execute query\n",
    "cursor.execute(query)\n",
    "\n",
    "#extract column names from query\n",
    "col_names = [description[0] for description in cursor.description]\n",
    "\n",
    "#extract data from query\n",
    "in_play = cursor.fetchall()\n",
    "\n",
    "#create dataframe from data and column names\n",
    "in_play_SC = pd.DataFrame(in_play, columns=col_names)"
   ]
  },
  {
   "cell_type": "code",
   "execution_count": null,
   "metadata": {},
   "outputs": [],
   "source": [
    "# create sql query to pull all data and column names from 2024 table that \"type\" == \"X\"\n",
    "\n",
    "query = (\"\"\"SELECT * FROM '2024' WHERE type == \"X\" \"\"\")\n",
    "\n",
    "#execute query\n",
    "cursor.execute(query)\n",
    "\n",
    "#extract column names from query\n",
    "col_names = [description[0] for description in cursor.description]\n",
    "\n",
    "#extract data from query\n",
    "in_play = cursor.fetchall()\n",
    "\n",
    "#create dataframe from data and column names\n",
    "in_play_SC = pd.DataFrame(in_play, columns=col_names)"
   ]
  },
  {
   "cell_type": "code",
   "execution_count": null,
   "metadata": {},
   "outputs": [],
   "source": [
    "# create sql query to pull all data and column names from 2024 t\n",
    "\n",
    "query = (\"\"\"SELECT * FROM '2024' WHERE type != \"X\" \"\"\")\n",
    "\n",
    "#execute query\n",
    "cursor.execute(query)\n",
    "\n",
    "#extract column names from query\n",
    "col_names = [description[0] for description in cursor.description]\n",
    "\n",
    "#extract data from query\n",
    "not_in_play = cursor.fetchall()\n",
    "\n",
    "#create dataframe from data and column names\n",
    "not_in_play_SC = pd.DataFrame(not_in_play, columns=col_names)"
   ]
  },
  {
   "cell_type": "code",
   "execution_count": null,
   "metadata": {},
   "outputs": [],
   "source": [
    "# create sql query to pull all data and column names from 2024 that was a homerun\n",
    "\n",
    "query = (\"\"\"SELECT * FROM '2024' WHERE events == \"home_run\" \"\"\")\n",
    "\n",
    "#execute query\n",
    "cursor.execute(query)\n",
    "\n",
    "#extract column names from query\n",
    "col_names = [description[0] for description in cursor.description]\n",
    "\n",
    "#extract data from query\n",
    "home_runs = cursor.fetchall()\n",
    "\n",
    "#create dataframe from data and column names\n",
    "home_runs_SC = pd.DataFrame(home_runs, columns=col_names)"
   ]
  },
  {
   "cell_type": "code",
   "execution_count": null,
   "metadata": {},
   "outputs": [],
   "source": [
    "home_runs_SC.shape"
   ]
  },
  {
   "cell_type": "code",
   "execution_count": null,
   "metadata": {},
   "outputs": [],
   "source": [
    "in_play_SC['events']"
   ]
  },
  {
   "cell_type": "code",
   "execution_count": null,
   "metadata": {},
   "outputs": [],
   "source": [
    "in_play_SC.dropna(axis=1, how='all')\n",
    "in_play_SC[['on_3b','on_2b','on_1b']].fillna(0, inplace=True)"
   ]
  },
  {
   "cell_type": "code",
   "execution_count": null,
   "metadata": {},
   "outputs": [],
   "source": [
    "in_play_SC['pitcher'] = in_play_SC['pitcher'].astype(str)"
   ]
  },
  {
   "cell_type": "code",
   "execution_count": null,
   "metadata": {},
   "outputs": [],
   "source": [
    "edwin_diaz = all_pitches_SC[all_pitches_SC['player_name'] == 'Diaz, Edwin']\n",
    "michael_kopech = all_pitches_SC[all_pitches_SC['player_name'] == 'Kopech, Michael']\n",
    "ben_lively = all_pitches_SC[all_pitches_SC['player_name'] == 'Lively, Ben']\n",
    "# create a seaborn scatter plot of in_play_SC \"pfx_x\" vs \"pfx_z\" as the x and y axis respectively colored by \"pitch_type\" for every 'bb_type' of 'home_run'\n",
    "\n",
    "sns.violinplot(data=ben_lively, x='effective_speed', y='release_spin_rate', hue='pitch_name')\n"
   ]
  },
  {
   "cell_type": "code",
   "execution_count": null,
   "metadata": {},
   "outputs": [],
   "source": [
    "sns.violinplot(data=ben_lively, x='effective_speed', y='release_spin_rate', hue='pitch_name')\n"
   ]
  },
  {
   "cell_type": "code",
   "execution_count": null,
   "metadata": {},
   "outputs": [],
   "source": [
    "# using pybaseballs pyb.playerid_lookup/pyb.player_searchlist or pyb.playerid_reverse_lookup, create a function that dynamically pulls the player_id for a given player_name\n",
    "\n",
    "def get_player_id(player_name):\n",
    "    player_id = pyb.playerid_lookup(player_name)\n",
    "    return player_id\n",
    "\n",
    "pyb.rosters(2024)"
   ]
  },
  {
   "cell_type": "code",
   "execution_count": null,
   "metadata": {},
   "outputs": [],
   "source": [
    "# PARSING RETROSHEET DATA \n",
    "\n",
    "import pandas as pd\n",
    "from Betting import *\n",
    "\n",
    "\n",
    "import pandas as pd\n",
    "\n",
    "def parse_retrosheet_event_file_to_df(file_path):\n",
    "    games_list = []\n",
    "    current_game_id = None\n",
    "    games = {}\n",
    "    # Open and read the file\n",
    "    with open(file_path, 'r') as file:\n",
    "        for line in file:\n",
    "            parts = line.strip().split(',')\n",
    "            record_type = parts[0]\n",
    "            \n",
    "            if record_type == 'id':\n",
    "                # Check if there's a current game being processed and append it before starting a new one\n",
    "                if current_game_id is not None:\n",
    "                    games_list.append(games[current_game_id]['info'])\n",
    "\n",
    "                # New game start\n",
    "                current_game_id = parts[1]\n",
    "                games[current_game_id] = {'info': {}, 'plays': []}\n",
    "            \n",
    "            elif record_type == 'info':\n",
    "                # General game information\n",
    "                key, value = parts[1], parts[2]\n",
    "                games[current_game_id]['info'][key] = value\n",
    "            \n",
    "            elif record_type == 'start':\n",
    "                # Starting lineup information (not parsed in detail here)\n",
    "                pass\n",
    "            \n",
    "            elif record_type == 'play':\n",
    "                # Play-by-play action (not saved to DataFrame in this example)\n",
    "                pass\n",
    "\n",
    "        # Append the last game info\n",
    "        if current_game_id is not None:\n",
    "            games_list.append(games[current_game_id]['info'])\n",
    "\n",
    "    # Convert the list of game information dictionaries to a DataFrame\n",
    "    df = pd.DataFrame(games_list)\n",
    "    return df\n",
    "\n",
    "# Example usage\n",
    "file_path = 'Betting/data/retrosheet/2023eve/2023COL.EVN'  # Replace with your actual file path\n",
    "game_info_df = parse_retrosheet_event_file_to_df(file_path)\n",
    "print(game_info_df.head())\n",
    "\n",
    "\n",
    "# Example usage\n",
    "#file_path = 'Betting/data/retrosheet/2023eve/2023COL.EVN'  # Replace with your actual file path\n",
    "#game_data = parse_retrosheet_event_file(file_path)\n"
   ]
  },
  {
   "cell_type": "code",
   "execution_count": null,
   "metadata": {},
   "outputs": [],
   "source": [
    "import pybaseball as pyb\n",
    "pyb.rosters(2024)"
   ]
  },
  {
   "cell_type": "code",
   "execution_count": null,
   "metadata": {},
   "outputs": [],
   "source": []
  }
 ],
 "metadata": {
  "kernelspec": {
   "display_name": "venv",
   "language": "python",
   "name": "python3"
  },
  "language_info": {
   "codemirror_mode": {
    "name": "ipython",
    "version": 3
   },
   "file_extension": ".py",
   "mimetype": "text/x-python",
   "name": "python",
   "nbconvert_exporter": "python",
   "pygments_lexer": "ipython3",
   "version": "3.12.3"
  }
 },
 "nbformat": 4,
 "nbformat_minor": 2
}
